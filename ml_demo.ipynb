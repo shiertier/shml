{
 "cells": [
  {
   "cell_type": "code",
   "execution_count": null,
   "id": "c7f7fcf8",
   "metadata": {},
   "outputs": [],
   "source": [
    "!pip install git+https://github.com/shiertier/shtool.git"
   ]
  },
  {
   "cell_type": "code",
   "execution_count": null,
   "id": "95685cc0",
   "metadata": {},
   "outputs": [],
   "source": [
    "%cd /gemini/code/shtool\n",
    "!git pull\n",
    "!pip install .\n",
    "%cd .."
   ]
  },
  {
   "cell_type": "code",
   "execution_count": null,
   "id": "f80d986c",
   "metadata": {},
   "outputs": [],
   "source": [
    "%cd /gemini/code/ML-Danbooru-webui\n",
    "!python setup.py sdist\n",
    "!pip install /gemini/code/ML-Danbooru-webui/dist/shml-0.1.tar.gz"
   ]
  },
  {
   "cell_type": "code",
   "execution_count": 4,
   "id": "a3331fea",
   "metadata": {},
   "outputs": [],
   "source": [
    "from shml.interface import Infer\n",
    "model_path = \"/gemini/code\"\n",
    "infer_instance = Infer(model_path)\n",
    "image_path = \"/gemini/code/1.png\"\n",
    "from PIL import Image\n",
    "image = Image.open(image_path)\n",
    "threshold = 0.5\n",
    "image_size = 256\n",
    "keep_ratio = False\n",
    "\n",
    "space = True\n",
    "escape = True\n",
    "conf = True\n",
    "\n",
    "# Perform inference\n",
    "result, result_dict = infer_instance.infer_one(\n",
    "    img=image,\n",
    "    threshold=threshold,\n",
    "    image_size=image_size,\n",
    "    keep_ratio=keep_ratio,\n",
    "    model_path=model_path,\n",
    "    space=space,\n",
    "    escape=escape,\n",
    "    conf=conf\n",
    ")"
   ]
  },
  {
   "cell_type": "code",
   "execution_count": 3,
   "id": "3447e641",
   "metadata": {},
   "outputs": [
    {
     "name": "stdout",
     "output_type": "stream",
     "text": [
      "black hair:0.97, long hair:0.93, mole:0.92, 2girls:0.92, mole under eye:0.92, multiple girls:0.88, looking at viewer:0.86, collar:0.85, choker:0.82, brown eyes:0.81, animal ears:0.79, spikes:0.76, cloud:0.76, closed mouth:0.74, upper body:0.74, bangs:0.73, spiked collar:0.73, sky:0.72, outdoors:0.72, parted bangs:0.72, thick eyebrows:0.71, jacket:0.71, dog ears:0.68, building:0.67, cloudy sky:0.67, city:0.66, blurry:0.66, expressionless:0.66, black choker:0.65, cityscape:0.65, 1girl:0.65, grey eyes:0.65, day:0.64, short eyebrows:0.64, black eyes:0.64, dog girl:0.63, uniform:0.62, portrait:0.61, police uniform:0.61, blurry background:0.61, studded collar:0.60, shirt:0.60, black collar:0.60, police:0.60, sidelocks:0.59, black jacket:0.58, studded choker:0.58, hat:0.58, brown hair:0.57, spiked choker:0.56, depth of field:0.56, blue sky:0.55, cat ears:0.55, dual persona:0.54, swept bangs:0.54, skyscraper:0.53, face:0.53, anime coloring:0.52, frown:0.52, letterboxed:0.52, looking to the side:0.52, solo:0.52, backlighting:0.52, siblings:0.51, tsurime:0.51, coat:0.50 {'black hair': 0.9664759039878845, 'long hair': 0.9312787652015686, 'mole': 0.922838568687439, '2girls': 0.9204619526863098, 'mole under eye': 0.9194544553756714, 'multiple girls': 0.8792957663536072, 'looking at viewer': 0.8615792393684387, 'collar': 0.8485640287399292, 'choker': 0.8178924322128296, 'brown eyes': 0.8120214343070984, 'animal ears': 0.789151132106781, 'spikes': 0.7630676031112671, 'cloud': 0.7580556869506836, 'closed mouth': 0.740346372127533, 'upper body': 0.7356564998626709, 'bangs': 0.7306309938430786, 'spiked collar': 0.729748547077179, 'sky': 0.723777174949646, 'outdoors': 0.7185459136962891, 'parted bangs': 0.7176539301872253, 'thick eyebrows': 0.7129045724868774, 'jacket': 0.7119511961936951, 'dog ears': 0.68010014295578, 'building': 0.6708972454071045, 'cloudy sky': 0.6677386164665222, 'city': 0.6584562659263611, 'blurry': 0.6577609181404114, 'expressionless': 0.6556769013404846, 'black choker': 0.6532339453697205, 'cityscape': 0.652934730052948, '1girl': 0.6489607691764832, 'grey eyes': 0.6470301151275635, 'day': 0.6411331295967102, 'short eyebrows': 0.6390474438667297, 'black eyes': 0.6351886987686157, 'dog girl': 0.6253384947776794, 'uniform': 0.6230193376541138, 'portrait': 0.6093210577964783, 'police uniform': 0.6087557673454285, 'blurry background': 0.6057446002960205, 'studded collar': 0.6045409440994263, 'shirt': 0.6019172072410583, 'black collar': 0.5989642143249512, 'police': 0.595203697681427, 'sidelocks': 0.5904771089553833, 'black jacket': 0.580290675163269, 'studded choker': 0.5776417255401611, 'hat': 0.5759776830673218, 'brown hair': 0.5652292966842651, 'spiked choker': 0.5621189475059509, 'depth of field': 0.5608642101287842, 'blue sky': 0.5543139576911926, 'cat ears': 0.5450711250305176, 'dual persona': 0.5387563705444336, 'swept bangs': 0.5352745056152344, 'skyscraper': 0.5282841920852661, 'face': 0.5272455811500549, 'anime coloring': 0.5224077105522156, 'frown': 0.5198639631271362, 'letterboxed': 0.5192660689353943, 'looking to the side': 0.5170477032661438, 'solo': 0.5158408880233765, 'backlighting': 0.5152166485786438, 'siblings': 0.507770836353302, 'tsurime': 0.5065548419952393, 'coat': 0.5005522966384888}\n"
     ]
    }
   ],
   "source": [
    "print(result, result_dict)"
   ]
  }
 ],
 "metadata": {
  "kernelspec": {
   "display_name": "Python 3 (ipykernel)",
   "language": "python",
   "name": "python3"
  },
  "language_info": {
   "codemirror_mode": {
    "name": "ipython",
    "version": 3
   },
   "file_extension": ".py",
   "mimetype": "text/x-python",
   "name": "python",
   "nbconvert_exporter": "python",
   "pygments_lexer": "ipython3",
   "version": "3.10.12"
  }
 },
 "nbformat": 4,
 "nbformat_minor": 5
}
